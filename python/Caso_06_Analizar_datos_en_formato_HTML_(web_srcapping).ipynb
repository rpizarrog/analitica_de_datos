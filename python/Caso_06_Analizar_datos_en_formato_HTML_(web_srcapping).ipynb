{
  "nbformat": 4,
  "nbformat_minor": 0,
  "metadata": {
    "colab": {
      "provenance": [],
      "authorship_tag": "ABX9TyN4Iaj5dO+Ml7tMKkFyIW4X",
      "include_colab_link": true
    },
    "kernelspec": {
      "name": "python3",
      "display_name": "Python 3"
    },
    "language_info": {
      "name": "python"
    }
  },
  "cells": [
    {
      "cell_type": "markdown",
      "metadata": {
        "id": "view-in-github",
        "colab_type": "text"
      },
      "source": [
        "<a href=\"https://colab.research.google.com/github/rpizarrog/analitica_de_datos/blob/main/python/Caso_06_Analizar_datos_en_formato_HTML_(web_srcapping).ipynb\" target=\"_parent\"><img src=\"https://colab.research.google.com/assets/colab-badge.svg\" alt=\"Open In Colab\"/></a>"
      ]
    },
    {
      "cell_type": "markdown",
      "source": [
        "# Objetivo\n",
        "\n",
        "Extraer y analizar datos de un sitio web a través de la técnica de *Web Scrapping*.\n",
        "\n"
      ],
      "metadata": {
        "id": "I50LSQeQoHe9"
      }
    },
    {
      "cell_type": "markdown",
      "source": [
        "# Desarrollo\n",
        "\n",
        "## Cargar librerías\n",
        "\n",
        "## Cargar funciones\n",
        "\n",
        "## Cargar datos\n",
        "\n"
      ],
      "metadata": {
        "id": "kC1PvjiIoSC8"
      }
    }
  ]
}