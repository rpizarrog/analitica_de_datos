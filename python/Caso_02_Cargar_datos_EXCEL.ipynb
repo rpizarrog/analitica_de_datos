{
  "nbformat": 4,
  "nbformat_minor": 0,
  "metadata": {
    "colab": {
      "provenance": [],
      "authorship_tag": "ABX9TyMVFQPcPqXtQbbQFF9VVJqb",
      "include_colab_link": true
    },
    "kernelspec": {
      "name": "python3",
      "display_name": "Python 3"
    },
    "language_info": {
      "name": "python"
    },
    "widgets": {
      "application/vnd.jupyter.widget-state+json": {
        "195e0213042b478d9d54b096dd7b2f97": {
          "model_module": "@jupyter-widgets/controls",
          "model_name": "FileUploadModel",
          "model_module_version": "1.5.0",
          "state": {
            "_counter": 1,
            "_dom_classes": [],
            "_model_module": "@jupyter-widgets/controls",
            "_model_module_version": "1.5.0",
            "_model_name": "FileUploadModel",
            "_view_count": null,
            "_view_module": "@jupyter-widgets/controls",
            "_view_module_version": "1.5.0",
            "_view_name": "FileUploadView",
            "accept": ".xlsx",
            "button_style": "",
            "data": [
              null
            ],
            "description": "Upload",
            "description_tooltip": null,
            "disabled": false,
            "error": "",
            "icon": "upload",
            "layout": "IPY_MODEL_c8dca60c3362438395bd396a2c147d57",
            "metadata": [
              {
                "name": "datos_estudiantes_sucios.xlsx",
                "type": "application/vnd.openxmlformats-officedocument.spreadsheetml.sheet",
                "size": 17078,
                "lastModified": 1708609738859
              }
            ],
            "multiple": false,
            "style": "IPY_MODEL_9d4dec928474414aa04f90ca416c7065"
          }
        },
        "c8dca60c3362438395bd396a2c147d57": {
          "model_module": "@jupyter-widgets/base",
          "model_name": "LayoutModel",
          "model_module_version": "1.2.0",
          "state": {
            "_model_module": "@jupyter-widgets/base",
            "_model_module_version": "1.2.0",
            "_model_name": "LayoutModel",
            "_view_count": null,
            "_view_module": "@jupyter-widgets/base",
            "_view_module_version": "1.2.0",
            "_view_name": "LayoutView",
            "align_content": null,
            "align_items": null,
            "align_self": null,
            "border": null,
            "bottom": null,
            "display": null,
            "flex": null,
            "flex_flow": null,
            "grid_area": null,
            "grid_auto_columns": null,
            "grid_auto_flow": null,
            "grid_auto_rows": null,
            "grid_column": null,
            "grid_gap": null,
            "grid_row": null,
            "grid_template_areas": null,
            "grid_template_columns": null,
            "grid_template_rows": null,
            "height": null,
            "justify_content": null,
            "justify_items": null,
            "left": null,
            "margin": null,
            "max_height": null,
            "max_width": null,
            "min_height": null,
            "min_width": null,
            "object_fit": null,
            "object_position": null,
            "order": null,
            "overflow": null,
            "overflow_x": null,
            "overflow_y": null,
            "padding": null,
            "right": null,
            "top": null,
            "visibility": null,
            "width": null
          }
        },
        "9d4dec928474414aa04f90ca416c7065": {
          "model_module": "@jupyter-widgets/controls",
          "model_name": "ButtonStyleModel",
          "model_module_version": "1.5.0",
          "state": {
            "_model_module": "@jupyter-widgets/controls",
            "_model_module_version": "1.5.0",
            "_model_name": "ButtonStyleModel",
            "_view_count": null,
            "_view_module": "@jupyter-widgets/base",
            "_view_module_version": "1.2.0",
            "_view_name": "StyleView",
            "button_color": null,
            "font_weight": ""
          }
        },
        "af5aed7710b54888b59246b627632885": {
          "model_module": "@jupyter-widgets/controls",
          "model_name": "ButtonModel",
          "model_module_version": "1.5.0",
          "state": {
            "_dom_classes": [],
            "_model_module": "@jupyter-widgets/controls",
            "_model_module_version": "1.5.0",
            "_model_name": "ButtonModel",
            "_view_count": null,
            "_view_module": "@jupyter-widgets/controls",
            "_view_module_version": "1.5.0",
            "_view_name": "ButtonView",
            "button_style": "",
            "description": "Cargar datos",
            "disabled": false,
            "icon": "",
            "layout": "IPY_MODEL_369f22c346f543bba64e89075f733a2a",
            "style": "IPY_MODEL_e45fbf4ba95e419e839616248cc30f6c",
            "tooltip": ""
          }
        },
        "369f22c346f543bba64e89075f733a2a": {
          "model_module": "@jupyter-widgets/base",
          "model_name": "LayoutModel",
          "model_module_version": "1.2.0",
          "state": {
            "_model_module": "@jupyter-widgets/base",
            "_model_module_version": "1.2.0",
            "_model_name": "LayoutModel",
            "_view_count": null,
            "_view_module": "@jupyter-widgets/base",
            "_view_module_version": "1.2.0",
            "_view_name": "LayoutView",
            "align_content": null,
            "align_items": null,
            "align_self": null,
            "border": null,
            "bottom": null,
            "display": null,
            "flex": null,
            "flex_flow": null,
            "grid_area": null,
            "grid_auto_columns": null,
            "grid_auto_flow": null,
            "grid_auto_rows": null,
            "grid_column": null,
            "grid_gap": null,
            "grid_row": null,
            "grid_template_areas": null,
            "grid_template_columns": null,
            "grid_template_rows": null,
            "height": null,
            "justify_content": null,
            "justify_items": null,
            "left": null,
            "margin": null,
            "max_height": null,
            "max_width": null,
            "min_height": null,
            "min_width": null,
            "object_fit": null,
            "object_position": null,
            "order": null,
            "overflow": null,
            "overflow_x": null,
            "overflow_y": null,
            "padding": null,
            "right": null,
            "top": null,
            "visibility": null,
            "width": null
          }
        },
        "e45fbf4ba95e419e839616248cc30f6c": {
          "model_module": "@jupyter-widgets/controls",
          "model_name": "ButtonStyleModel",
          "model_module_version": "1.5.0",
          "state": {
            "_model_module": "@jupyter-widgets/controls",
            "_model_module_version": "1.5.0",
            "_model_name": "ButtonStyleModel",
            "_view_count": null,
            "_view_module": "@jupyter-widgets/base",
            "_view_module_version": "1.2.0",
            "_view_name": "StyleView",
            "button_color": null,
            "font_weight": ""
          }
        }
      }
    }
  },
  "cells": [
    {
      "cell_type": "markdown",
      "metadata": {
        "id": "view-in-github",
        "colab_type": "text"
      },
      "source": [
        "<a href=\"https://colab.research.google.com/github/rpizarrog/analitica_de_datos/blob/main/python/Caso_02_Cargar_datos_EXCEL.ipynb\" target=\"_parent\"><img src=\"https://colab.research.google.com/assets/colab-badge.svg\" alt=\"Open In Colab\"/></a>"
      ]
    },
    {
      "cell_type": "code",
      "execution_count": null,
      "metadata": {
        "id": "SmQUZlG_FTfY"
      },
      "outputs": [],
      "source": []
    },
    {
      "cell_type": "markdown",
      "source": [
        "# Objetivo\n",
        "\n",
        "Transformar y analizar datos provenientes de un archivo en formato EXCEL\n",
        "\n"
      ],
      "metadata": {
        "id": "iZYRKuIYFWc2"
      }
    },
    {
      "cell_type": "markdown",
      "source": [
        "# Descripción\n",
        "\n",
        "... Mismas condiciones que el caso 01 anerior ...\n",
        "\n",
        "* Identificar una ruta en donde se encuentra un archivo en formato CSV que define dos variables de interés, edades y generos Masculino o Femenino.\n",
        "* Se cargan las funciones adecuadas.\n",
        "* Se cargan las librerías.\n",
        "* Se identifican datos sucios en el conjunto de datos.\n",
        "* Se transforman los datos de la variable edades de la siguiente manera:\n",
        "  * La variable se convierte a numérico y aquel que no sea número se le pone la etiqueta NaN.\n",
        "  * Se convierte a valores absolutos.\n",
        "  * Al calcular la mediana se modifican los valores NaN a valor de la mediana\n",
        "  * Con el diagrama de caja se identifican datos atípicos.\n",
        "  * Se observa histograma de las edades\n",
        "* Se transorma la variable generos:\n",
        "  * Convertir todos los valores a mayúsculas para estandarizar\n",
        "  * Los registros que no tengan valor poner la moda de los valores.\n",
        "  * Si hay un parecido en el string poner lo que se le parezca."
      ],
      "metadata": {
        "id": "f192ex0BFh59"
      }
    },
    {
      "cell_type": "markdown",
      "source": [
        "# Desarrollo\n",
        "\n"
      ],
      "metadata": {
        "id": "BDh-dCwtF4n1"
      }
    },
    {
      "cell_type": "markdown",
      "source": [
        "## Cargar librerías\n",
        "\n"
      ],
      "metadata": {
        "id": "BL44vwR-F72Z"
      }
    },
    {
      "cell_type": "code",
      "source": [
        "# !pip install fuzzywuzzy # Solo descargar una sola vez\n",
        "# !pip install ipywidgets  # Solo una vez para permitir complementos o elementos interactivos\n"
      ],
      "metadata": {
        "id": "EvmviZIvGQQU"
      },
      "execution_count": null,
      "outputs": []
    },
    {
      "cell_type": "code",
      "source": [
        "import pandas as pd\n",
        "import numpy as np\n",
        "from collections import Counter as Counter\n",
        "import math\n",
        "\n",
        "import matplotlib.pyplot as plt # Para visualizar datos\n",
        "\n",
        "from fuzzywuzzy import process # Para modificar valores similares\n",
        "\n",
        "from IPython.display import display, clear_output\n",
        "import io\n",
        "import ipywidgets as widgets\n"
      ],
      "metadata": {
        "id": "3a1hmzD3GJGr"
      },
      "execution_count": 41,
      "outputs": []
    },
    {
      "cell_type": "markdown",
      "source": [
        "## Cargar funciones\n",
        "\n",
        "\n",
        "\n"
      ],
      "metadata": {
        "id": "YOOZEAgEF9rq"
      }
    },
    {
      "cell_type": "code",
      "source": [
        "datos_sucios = None  # Esta variable almacenará el DataFrame una vez cargado\n",
        "\n",
        "def f_cargar_datos(uploader):\n",
        "    if uploader.value:\n",
        "        # Extraer la información del archivo cargado\n",
        "        input_file = next(iter(uploader.value))\n",
        "        content = uploader.value[input_file]['content']\n",
        "        # Leer el contenido en un DataFrame\n",
        "        df = pd.read_excel(io.BytesIO(content))\n",
        "        return df\n",
        "    else:\n",
        "        return None\n",
        "\n",
        "def on_cargar_clicked(b):\n",
        "    global datos_sucios  # Indica que vamos a modificar la variable global\n",
        "    if uploader.value:\n",
        "        input_file = next(iter(uploader.value))\n",
        "        content = uploader.value[input_file]['content']\n",
        "        datos_sucios = pd.read_excel(io.BytesIO(content))  # Actualiza la variable global\n",
        "        clear_output(wait=True)\n",
        "        display(uploader, boton_cargar)\n",
        "        print(\"Datos cargados correctamente. Puedes proceder a manipularlos.\")\n",
        "    else:\n",
        "        print(\"Por favor, carga un archivo antes de hacer clic en 'Cargar datos'.\")\n",
        "\n",
        "\n",
        "# Definir la función que convierte una lista o arreglo a valores numéricos\n",
        "def f_convertir_numeros(valores):\n",
        "    # Convertir los valores a numéricos, forzando los no convertibles a NaN\n",
        "    numericos = pd.to_numeric(valores, errors='coerce')\n",
        "    return numericos\n",
        "\n",
        "# Definen una función que convierte valores numéricos a valores absolutos\n",
        "def f_convertir_absoluto (valores):\n",
        "  return np.abs(valores)\n",
        "\n",
        "# Función median con pandas la función median()\n",
        "def f_mediana(valores):\n",
        "  # Mediana excluyendo\n",
        "  mediana = valores.median()\n",
        "  return mediana\n",
        "\n",
        "def f_convertir_mediana(valores):\n",
        "    # Convertir la entrada a una Serie de Pandas si no lo es\n",
        "    if not isinstance(valores, pd.Series):\n",
        "        valores = pd.Series(valores)\n",
        "\n",
        "    # Convertir todos los valores a numéricos, forzando los no convertibles a NaN\n",
        "    valores_numericos = pd.to_numeric(valores, errors='coerce')\n",
        "\n",
        "    # Calcular la mediana de los valores numéricos, excluyendo los NaN\n",
        "    mediana = valores_numericos.median()\n",
        "\n",
        "    # Reemplazar los NaN con la mediana\n",
        "    numeros = valores_numericos.fillna(mediana)\n",
        "\n",
        "    return numeros\n",
        "\n",
        "\n",
        "# Función que visualiza histogrma de una variable de interés numérica\n",
        "def f_histograma(numeros, contexto):\n",
        "  # Calular l media\n",
        "  media = np.mean(numeros)\n",
        "  # Calcular la mediana\n",
        "  mediana = np.median(numeros)\n",
        "\n",
        "  desviacion_estandar = np.std(numeros, ddof=1)\n",
        "  plt.hist(numeros, bins=8, edgecolor='k', alpha=0.7)\n",
        "  plt.axvline(media, color='red', linestyle='dashed', linewidth=2, label=f'Media = {media:.2f}')\n",
        "  plt.axvline(mediana, color='blue', linestyle='dashed', linewidth=2, label=f'Mediana = {mediana:.2f}')\n",
        "  plt.axvline(media - desviacion_estandar, color='green', linestyle='dashed', linewidth=2, label=f'Desv. Estándar = {desviacion_estandar:.2f}')\n",
        "  plt.axvline(media + desviacion_estandar, color='green', linestyle='dashed', linewidth=2)\n",
        "  plt.title('Histograma de ' + contexto + ' con media y desviación estándar')\n",
        "  plt.xlabel(contexto)\n",
        "  plt.ylabel('Frecuencia')\n",
        "  plt.legend()\n",
        "  plt.show()\n",
        "\n",
        "# Función que determina cuartiles\n",
        "def f_cuartiles_quantile(datos):\n",
        "  q1 = np.percentile(datos, 25)\n",
        "  q2 = np.percentile(datos, 50)\n",
        "  q3 = np.percentile(datos, 75)\n",
        "  return q1, q2, q3\n",
        "\n",
        "# Función que construye diagrama de caja\n",
        "def f_diagrama_caja (datos, contexto):\n",
        "  plt.boxplot(datos, vert=False)\n",
        "  plt.xlabel(contexto)\n",
        "  plt.ylabel('Valor')\n",
        "  plt.title('Diagrama de Caja')\n",
        "\n",
        "  # Calculando cuartiles d ela funci´pn previamente creada\n",
        "  q1, q2, q3= f_cuartiles_quantile(datos)\n",
        "  # Añadir leyendas para los cuartiles\n",
        "  plt.axvline(x=q1, color='blue', linestyle='--', linewidth=1, label=f'Q1: {q1:.2f}')\n",
        "  plt.axvline(x=q2, color='blue', linestyle='--', linewidth=1, label=f'Q2:Mediana: {q2:.2f}')\n",
        "  plt.axvline(x=q3, color='blue', linestyle='--', linewidth=1, label=f'Q3: {q3:.2f}')\n",
        "\n",
        "  # Añadir leyenda adicional\n",
        "  plt.legend()\n",
        "\n",
        "  plt.show()\n",
        "\n",
        "def f_modificar_atipicos (datos):\n",
        "\n",
        "  datos = np.array(datos)\n",
        "  q1, q2, q3 = f_cuartiles_quantile(datos)\n",
        "\n",
        "  # La mediana\n",
        "  mediana = np.median(datos)\n",
        "\n",
        "  # Rango Intercuartílico RI = q3 - q1\n",
        "  RI = q3 - q1\n",
        "\n",
        "  # Definir los límites para los valores atípicos\n",
        "  limite_inferior = q1 - 1.5 * RI\n",
        "  limite_superior = q3 + 1.5 * RI\n",
        "\n",
        "  # Calcular la mediana\n",
        "  mediana = np.median(datos)\n",
        "\n",
        "  # Reemplazar los valores atípicos por la mediana\n",
        "  datos[(datos < limite_inferior) | (datos > limite_superior)] = mediana\n",
        "\n",
        "  return datos\n",
        "\n",
        "\n",
        "# Convertir todos los valores a mayúsculas para estandarizar la columna.\n",
        "def f_convertir_MAYUSCULAS(valores):\n",
        "  # 1. Convertir todos los valores a mayúsculas\n",
        "  valores = valores.str.upper()\n",
        "  return valores\n",
        "\n",
        "def f_reemplazar_generos_moda (valores):\n",
        "  moda_generos = valores.mode()[0]\n",
        "\n",
        "  valores.fillna(moda_generos, inplace=True)\n",
        "\n",
        "  return valores\n",
        "\n",
        "# Función que debe modifiar un valor de acuerdo a la cadena que mas se le parezca\n",
        "def f_modificar_inicial (valores):\n",
        "  # Mapear cualquier valor que sea claramente 'M' o 'F' a 'MASCULINO' o 'FEMENINO'\n",
        "  valores = valores.replace({'M': 'MASCULINO', 'F': 'FEMENINO'})\n",
        "\n",
        "  # Debe identificar los valores únicos los dos que mas se repitan\n",
        "  # por ejemplo FEMENINO Y MASCULINO\n",
        "  # De cada valor si hay una ler F es FEMENINO\n",
        "  # De cada valor si hay una ler M es MASCULINO\n",
        "  # De cada valor si se parece por ejemplo GEMENINO se parece a FEMENINO\n",
        "  # De cada valor si se parece por ejemplo SASCULINO se parece a MASCULINO\n",
        "  return valores\n",
        "\n",
        "# Visualiza diagrama de barra de una variable categórica\n",
        "def f_diagrama_barra(valores, contexto):\n",
        "  # Contar la frecuencia de cada categoría en la columna 'generos'\n",
        "  frecuencias = valores.value_counts()\n",
        "\n",
        "  # Crear el diagrama de barras\n",
        "  frecuencias.plot(kind='bar')\n",
        "\n",
        "  # Agregar etiquetas y título para mayor claridad\n",
        "  plt.xlabel(contexto)\n",
        "  plt.ylabel('Frecuencia')\n",
        "  plt.title('Frecuencia' + contexto)\n",
        "  plt.xticks(rotation=45)  # Rotar las etiquetas del eje x para mejor legibilidad\n",
        "\n",
        "  # Mostrar leyenda\n",
        "  plt.legend(['Frecuencia'])\n",
        "  # Anotar cada barra con su respectiva frecuencia\n",
        "  for index, value in enumerate(frecuencias):\n",
        "    plt.text(index, value, str(value), ha='center', va='bottom')\n",
        "\n",
        "  # Mostrar el diagrama\n",
        "  plt.show()\n",
        "\n",
        "# Función que modifica valores similares\n",
        "def f_modificar_parecidos(valores, opciones=['FEMENINO', 'MASCULINO'], umbral=50):\n",
        "    \"\"\"\n",
        "    Estandariza los valores de género en una lista o columna de DataFrame a 'FEMENINO' o 'MASCULINO' basado en la similitud.\n",
        "\n",
        "    Parámetros:\n",
        "    - valores: Una lista o Serie de pandas con los valores de género a estandarizar.\n",
        "    - opciones: Una lista de valores aceptados a los que se intentará hacer coincidir los valores.\n",
        "    - umbral: El umbral de coincidencia para considerar una equivalencia (0-100).\n",
        "\n",
        "    Retorna:\n",
        "    Una lista o Serie de pandas con los valores estandarizados.\n",
        "    \"\"\"\n",
        "    # Función para estandarizar un único valor\n",
        "    def estandarizar_valor(valor):\n",
        "        if valor is None:  # Verifica si el valor es None antes de proceder\n",
        "            return valor\n",
        "        mejor_coincidencia, puntaje = process.extractOne(valor.upper(), opciones)\n",
        "        return mejor_coincidencia if puntaje > umbral else valor\n",
        "\n",
        "    # Aplicar la estandarización a cada valor en la lista o Serie\n",
        "    if isinstance(valores, pd.Series):\n",
        "        return valores.apply(estandarizar_valor)\n",
        "    else:\n",
        "        return [estandarizar_valor(valor) for valor in valores]\n",
        "\n",
        "# Funci´n que recibe los datos\n",
        "# Por cada columna limpia los valores\n",
        "def f_transformar_datos(datos_sucios):\n",
        "  # pendiente\n",
        "  return datos_limpios"
      ],
      "metadata": {
        "id": "X_TfYEtvIa0O"
      },
      "execution_count": 42,
      "outputs": []
    },
    {
      "cell_type": "markdown",
      "source": [
        "## Variables globales\n"
      ],
      "metadata": {
        "id": "GPaJrsymMHhc"
      }
    },
    {
      "cell_type": "code",
      "source": [
        "# datos_sucios = None  # Esta variable almacenará el DataFrame una vez cargado"
      ],
      "metadata": {
        "id": "NN_C4KenMJWe"
      },
      "execution_count": 36,
      "outputs": []
    },
    {
      "cell_type": "markdown",
      "source": [
        "## Cargar datos\n",
        "\n"
      ],
      "metadata": {
        "id": "i0gh7skTGDVA"
      }
    },
    {
      "cell_type": "code",
      "source": [
        "# Crear el widget de carga\n",
        "uploader = widgets.FileUpload(\n",
        "    accept='.xlsx',  # Aceptar solo archivos .xlsx\n",
        "    multiple=False  # Permitir la carga de un solo archivo\n",
        ")\n",
        "\n",
        "# Crear un botón para procesar el archivo después de cargarlo\n",
        "boton_cargar = widgets.Button(description=\"Cargar datos\")\n",
        "\n",
        "# Asignar la acción al botón\n",
        "datos_sucios = boton_cargar.on_click(on_cargar_clicked)\n",
        "\n",
        "print (\"Datos Sucios\")\n",
        "# Mostrar el widget de carga y el botón\n",
        "display(uploader, boton_cargar)\n"
      ],
      "metadata": {
        "colab": {
          "base_uri": "https://localhost:8080/",
          "height": 98,
          "referenced_widgets": [
            "195e0213042b478d9d54b096dd7b2f97",
            "c8dca60c3362438395bd396a2c147d57",
            "9d4dec928474414aa04f90ca416c7065",
            "af5aed7710b54888b59246b627632885",
            "369f22c346f543bba64e89075f733a2a",
            "e45fbf4ba95e419e839616248cc30f6c"
          ]
        },
        "id": "2DSv9_5LGreq",
        "outputId": "1a036f96-8eb2-4b69-cc3e-b614310ff2d5"
      },
      "execution_count": 47,
      "outputs": [
        {
          "output_type": "display_data",
          "data": {
            "text/plain": [
              "FileUpload(value={'datos_estudiantes_sucios.xlsx': {'metadata': {'name': 'datos_estudiantes_sucios.xlsx', 'typ…"
            ],
            "application/vnd.jupyter.widget-view+json": {
              "version_major": 2,
              "version_minor": 0,
              "model_id": "195e0213042b478d9d54b096dd7b2f97"
            }
          },
          "metadata": {}
        },
        {
          "output_type": "display_data",
          "data": {
            "text/plain": [
              "Button(description='Cargar datos', style=ButtonStyle())"
            ],
            "application/vnd.jupyter.widget-view+json": {
              "version_major": 2,
              "version_minor": 0,
              "model_id": "af5aed7710b54888b59246b627632885"
            }
          },
          "metadata": {}
        },
        {
          "output_type": "stream",
          "name": "stdout",
          "text": [
            "Datos cargados correctamente. Puedes proceder a manipularlos.\n"
          ]
        }
      ]
    },
    {
      "cell_type": "markdown",
      "source": [
        "## Transformar datos\n",
        "\n",
        "### Columna edades\n"
      ],
      "metadata": {
        "id": "bK_hQ-TRKLA3"
      }
    },
    {
      "cell_type": "code",
      "source": [
        "datos_limpios = datos_sucios\n",
        "\n",
        "print (datos_sucios)\n",
        "datos_limpios['edades'] = f_convertir_numeros(datos_limpios['edades'])\n",
        "datos_limpios['edades'] = f_convertir_absoluto(datos_limpios['edades'])\n",
        "datos_limpios['edades'] = f_convertir_mediana(datos_limpios['edades'])\n",
        "f_diagrama_caja(datos_limpios['edades'], 'edades')\n",
        "datos_limpios['edades'] = f_modificar_atipicos(datos_limpios['edades'])\n",
        "print (\"Datos Limpios Finales\")\n",
        "print (datos_limpios)\n",
        "\n",
        "# Verificar si se modifiacron os datos atípicos\n",
        "f_diagrama_caja(datos_limpios['edades'], 'edades')\n",
        "f_histograma(datos_limpios['edades'], 'edades')\n",
        "print (datos_limpios)\n"
      ],
      "metadata": {
        "colab": {
          "base_uri": "https://localhost:8080/",
          "height": 1000
        },
        "id": "GHeQxtreKO-8",
        "outputId": "9fa390f5-4716-48a7-c72a-5a52570ae6cd"
      },
      "execution_count": 51,
      "outputs": [
        {
          "output_type": "stream",
          "name": "stdout",
          "text": [
            "    edades    generos\n",
            "0     13.0   Femenino\n",
            "1     25.5  Masculino\n",
            "2     25.0  Masculino\n",
            "3     29.0        NaN\n",
            "4     13.0  Masculino\n",
            "5      8.0        NaN\n",
            "6     11.0  Masculino\n",
            "7     42.0   FEMENINO\n",
            "8      9.0   Femenino\n",
            "9     13.0  Masculino\n",
            "10    33.0   Femenino\n",
            "11    19.0  Masculino\n",
            "12    27.0  Masculino\n",
            "13     9.0  Masculino\n",
            "14    49.0          M\n",
            "15    25.5   FEMENINO\n",
            "16    22.0   FEMENINO\n",
            "17     1.0   FEMENINO\n",
            "18    47.0  Masculino\n",
            "19    11.0   FEMENINO\n",
            "20    33.0  Masculino\n",
            "21    14.0  Masculino\n",
            "22    38.0  Masculino\n",
            "23    16.0   Femenino\n",
            "24    48.0   Femenino\n",
            "25    31.0   Femenino\n",
            "26    17.0   FEMENINO\n",
            "27    49.0   Femenino\n",
            "28     5.0   Femenino\n",
            "29     4.0   oasculno\n",
            "30    36.0  Masculino\n",
            "31    40.0   FEMENINO\n",
            "32    33.0  Masculino\n",
            "33    44.0          F\n",
            "34    41.0    FMENINO\n",
            "35    46.0  Masculino\n",
            "36     8.0    MESCLIN\n",
            "37    26.0   FEMENINO\n",
            "38    40.0  Masculino\n",
            "39     4.0   FEMENINO\n",
            "40    10.0   FEMENINO\n",
            "41     2.0   Mascuino\n",
            "42    28.0   GAMENINO\n",
            "43    25.5  Masculino\n",
            "44     7.0   FEMENINO\n",
            "45    14.0  Masculino\n",
            "46    49.0   Xemenino\n",
            "47     3.0  Masculino\n",
            "48    39.0   Femenino\n",
            "49    47.0   Femenino\n"
          ]
        },
        {
          "output_type": "display_data",
          "data": {
            "text/plain": [
              "<Figure size 640x480 with 1 Axes>"
            ],
            "image/png": "[encoded data removed]"
          },
          "metadata": {}
        },
        {
          "output_type": "stream",
          "name": "stdout",
          "text": [
            "Datos Limpios Finales\n",
            "    edades    generos\n",
            "0     13.0   Femenino\n",
            "1     25.5  Masculino\n",
            "2     25.0  Masculino\n",
            "3     29.0        NaN\n",
            "4     13.0  Masculino\n",
            "5      8.0        NaN\n",
            "6     11.0  Masculino\n",
            "7     42.0   FEMENINO\n",
            "8      9.0   Femenino\n",
            "9     13.0  Masculino\n",
            "10    33.0   Femenino\n",
            "11    19.0  Masculino\n",
            "12    27.0  Masculino\n",
            "13     9.0  Masculino\n",
            "14    49.0          M\n",
            "15    25.5   FEMENINO\n",
            "16    22.0   FEMENINO\n",
            "17     1.0   FEMENINO\n",
            "18    47.0  Masculino\n",
            "19    11.0   FEMENINO\n",
            "20    33.0  Masculino\n",
            "21    14.0  Masculino\n",
            "22    38.0  Masculino\n",
            "23    16.0   Femenino\n",
            "24    48.0   Femenino\n",
            "25    31.0   Femenino\n",
            "26    17.0   FEMENINO\n",
            "27    49.0   Femenino\n",
            "28     5.0   Femenino\n",
            "29     4.0   oasculno\n",
            "30    36.0  Masculino\n",
            "31    40.0   FEMENINO\n",
            "32    33.0  Masculino\n",
            "33    44.0          F\n",
            "34    41.0    FMENINO\n",
            "35    46.0  Masculino\n",
            "36     8.0    MESCLIN\n",
            "37    26.0   FEMENINO\n",
            "38    40.0  Masculino\n",
            "39     4.0   FEMENINO\n",
            "40    10.0   FEMENINO\n",
            "41     2.0   Mascuino\n",
            "42    28.0   GAMENINO\n",
            "43    25.5  Masculino\n",
            "44     7.0   FEMENINO\n",
            "45    14.0  Masculino\n",
            "46    49.0   Xemenino\n",
            "47     3.0  Masculino\n",
            "48    39.0   Femenino\n",
            "49    47.0   Femenino\n"
          ]
        },
        {
          "output_type": "display_data",
          "data": {
            "text/plain": [
              "<Figure size 640x480 with 1 Axes>"
            ],
            "image/png": "[encoded data removed]"
          },
          "metadata": {}
        },
        {
          "output_type": "display_data",
          "data": {
            "text/plain": [
              "<Figure size 640x480 with 1 Axes>"
            ],
            "image/png": "[encoded data removed]"
          },
          "metadata": {}
        },
        {
          "output_type": "stream",
          "name": "stdout",
          "text": [
            "    edades    generos\n",
            "0     13.0   Femenino\n",
            "1     25.5  Masculino\n",
            "2     25.0  Masculino\n",
            "3     29.0        NaN\n",
            "4     13.0  Masculino\n",
            "5      8.0        NaN\n",
            "6     11.0  Masculino\n",
            "7     42.0   FEMENINO\n",
            "8      9.0   Femenino\n",
            "9     13.0  Masculino\n",
            "10    33.0   Femenino\n",
            "11    19.0  Masculino\n",
            "12    27.0  Masculino\n",
            "13     9.0  Masculino\n",
            "14    49.0          M\n",
            "15    25.5   FEMENINO\n",
            "16    22.0   FEMENINO\n",
            "17     1.0   FEMENINO\n",
            "18    47.0  Masculino\n",
            "19    11.0   FEMENINO\n",
            "20    33.0  Masculino\n",
            "21    14.0  Masculino\n",
            "22    38.0  Masculino\n",
            "23    16.0   Femenino\n",
            "24    48.0   Femenino\n",
            "25    31.0   Femenino\n",
            "26    17.0   FEMENINO\n",
            "27    49.0   Femenino\n",
            "28     5.0   Femenino\n",
            "29     4.0   oasculno\n",
            "30    36.0  Masculino\n",
            "31    40.0   FEMENINO\n",
            "32    33.0  Masculino\n",
            "33    44.0          F\n",
            "34    41.0    FMENINO\n",
            "35    46.0  Masculino\n",
            "36     8.0    MESCLIN\n",
            "37    26.0   FEMENINO\n",
            "38    40.0  Masculino\n",
            "39     4.0   FEMENINO\n",
            "40    10.0   FEMENINO\n",
            "41     2.0   Mascuino\n",
            "42    28.0   GAMENINO\n",
            "43    25.5  Masculino\n",
            "44     7.0   FEMENINO\n",
            "45    14.0  Masculino\n",
            "46    49.0   Xemenino\n",
            "47     3.0  Masculino\n",
            "48    39.0   Femenino\n",
            "49    47.0   Femenino\n"
          ]
        }
      ]
    },
    {
      "cell_type": "markdown",
      "source": [
        "### Limpiar generos\n"
      ],
      "metadata": {
        "id": "gYdWpra-OpIr"
      }
    },
    {
      "cell_type": "code",
      "source": [
        "datos_limpios['generos'] = f_convertir_MAYUSCULAS(datos_limpios['generos'])\n",
        "datos_limpios['generos'] = f_reemplazar_generos_moda(datos_limpios['generos'])\n",
        "datos_limpios['generos'] = f_modificar_inicial(datos_limpios['generos'])\n",
        "datos_limpios['generos'] = f_modificar_parecidos(datos_limpios['generos'])\n",
        "print (\"Finalmente datos limpios\")\n",
        "print (datos_limpios)\n"
      ],
      "metadata": {
        "colab": {
          "base_uri": "https://localhost:8080/"
        },
        "id": "VW61pG5iOrGt",
        "outputId": "ac2d0c37-6419-4e37-b442-763be7cf328a"
      },
      "execution_count": 52,
      "outputs": [
        {
          "output_type": "stream",
          "name": "stdout",
          "text": [
            "Finalmente datos limpios\n",
            "    edades    generos\n",
            "0     13.0   FEMENINO\n",
            "1     25.5  MASCULINO\n",
            "2     25.0  MASCULINO\n",
            "3     29.0   FEMENINO\n",
            "4     13.0  MASCULINO\n",
            "5      8.0   FEMENINO\n",
            "6     11.0  MASCULINO\n",
            "7     42.0   FEMENINO\n",
            "8      9.0   FEMENINO\n",
            "9     13.0  MASCULINO\n",
            "10    33.0   FEMENINO\n",
            "11    19.0  MASCULINO\n",
            "12    27.0  MASCULINO\n",
            "13     9.0  MASCULINO\n",
            "14    49.0  MASCULINO\n",
            "15    25.5   FEMENINO\n",
            "16    22.0   FEMENINO\n",
            "17     1.0   FEMENINO\n",
            "18    47.0  MASCULINO\n",
            "19    11.0   FEMENINO\n",
            "20    33.0  MASCULINO\n",
            "21    14.0  MASCULINO\n",
            "22    38.0  MASCULINO\n",
            "23    16.0   FEMENINO\n",
            "24    48.0   FEMENINO\n",
            "25    31.0   FEMENINO\n",
            "26    17.0   FEMENINO\n",
            "27    49.0   FEMENINO\n",
            "28     5.0   FEMENINO\n",
            "29     4.0  MASCULINO\n",
            "30    36.0  MASCULINO\n",
            "31    40.0   FEMENINO\n",
            "32    33.0  MASCULINO\n",
            "33    44.0   FEMENINO\n",
            "34    41.0   FEMENINO\n",
            "35    46.0  MASCULINO\n",
            "36     8.0  MASCULINO\n",
            "37    26.0   FEMENINO\n",
            "38    40.0  MASCULINO\n",
            "39     4.0   FEMENINO\n",
            "40    10.0   FEMENINO\n",
            "41     2.0  MASCULINO\n",
            "42    28.0   FEMENINO\n",
            "43    25.5  MASCULINO\n",
            "44     7.0   FEMENINO\n",
            "45    14.0  MASCULINO\n",
            "46    49.0   FEMENINO\n",
            "47     3.0  MASCULINO\n",
            "48    39.0   FEMENINO\n",
            "49    47.0   FEMENINO\n"
          ]
        }
      ]
    },
    {
      "cell_type": "markdown",
      "source": [
        "# Interpretación"
      ],
      "metadata": {
        "id": "-OunmunTF5_r"
      }
    }
  ]
}