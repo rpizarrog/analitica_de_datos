{
  "nbformat": 4,
  "nbformat_minor": 0,
  "metadata": {
    "colab": {
      "provenance": [],
      "authorship_tag": "ABX9TyO6nfbQUsL36j78hClt6R8S",
      "include_colab_link": true
    },
    "kernelspec": {
      "name": "python3",
      "display_name": "Python 3"
    },
    "language_info": {
      "name": "python"
    }
  },
  "cells": [
    {
      "cell_type": "markdown",
      "metadata": {
        "id": "view-in-github",
        "colab_type": "text"
      },
      "source": [
        "<a href=\"https://colab.research.google.com/github/rpizarrog/analitica_de_datos/blob/main/python/Caso_01_Cargar_datos_de_un_csv.ipynb\" target=\"_parent\"><img src=\"https://colab.research.google.com/assets/colab-badge.svg\" alt=\"Open In Colab\"/></a>"
      ]
    },
    {
      "cell_type": "markdown",
      "source": [
        "# Objetivo\n",
        "\n",
        "Cargar un conjunto de datos y transformar para dejar datos limpios\n"
      ],
      "metadata": {
        "id": "PF7ReVIktCkl"
      }
    },
    {
      "cell_type": "markdown",
      "source": [
        "# Descripción\n",
        "\n",
        "* Identificar una ruta en donde se encuentra un archivo en formato CSV que define dos variables de interés, *edades* y *generos* Masculino o Femenino.\n",
        "* Se cargan las funciones adecuadas.\n",
        "* Se cargan las librerías.\n",
        "* Se identifican datos sucios en el conjunto de datos.\n",
        "* Se transforman los datos de la variable edades de la siguiente manera:\n",
        "  * La variable se convierte a numérico y aquel que no sea número se le ponde la etiqueta NaN.\n",
        "  * Se convierte a valores absolutos.\n",
        "  * Al calcular la mediana se modifican los valores NaN a valor de la mediana\n",
        "  * Con el diagrama de caja se identifican datos atípicos.\n",
        "  * Se observa histograma de las edades\n",
        "* Se transorma la variable *generos*:\n",
        "  * Convertir todos los valores\n",
        "  a mayúsculas para estandarizar\n",
        "  * Los registros que no tengan valor óner la moda de los valores.\n",
        "  * Si hay un parecido en el *string* poner lo que se le parezca.\n",
        "\n"
      ],
      "metadata": {
        "id": "ohiIE9DouUxx"
      }
    },
    {
      "cell_type": "markdown",
      "source": [
        "# Desarrollo\n"
      ],
      "metadata": {
        "id": "SRVl7TTVtLd9"
      }
    },
    {
      "cell_type": "markdown",
      "source": [
        "## Cargar librerías\n"
      ],
      "metadata": {
        "id": "BFLJjlLZtNZG"
      }
    },
    {
      "cell_type": "code",
      "source": [
        "import pandas as pd\n",
        "import numpy as np\n",
        "from collections import Counter as Counter\n",
        "import math\n",
        "\n",
        "import matplotlib.pyplot as plt # Para visualizar datos"
      ],
      "metadata": {
        "id": "ioNHI5PVs8E3"
      },
      "execution_count": 132,
      "outputs": []
    },
    {
      "cell_type": "markdown",
      "source": [
        "## Crear funciones\n",
        "\n",
        "Funciones para limpiar datos\n"
      ],
      "metadata": {
        "id": "vSgPjAQJtTM1"
      }
    },
    {
      "cell_type": "code",
      "source": [
        "# Definir la función que convierte una lista o arreglo a valores numéricos\n",
        "def f_convertir_numeros(valores):\n",
        "    # Convertir los valores a numéricos, forzando los no convertibles a NaN\n",
        "    numericos = pd.to_numeric(valores, errors='coerce')\n",
        "    return numericos\n",
        "\n",
        "# Definen una función que convierte valores numéricos a valores absolutos\n",
        "def f_convertir_absoluto (valores):\n",
        "  return np.abs(valores)\n",
        "\n",
        "# Función median con pandas la función median()\n",
        "def f_mediana(valores):\n",
        "  # Mediana excluyendo\n",
        "  mediana = valores.median()\n",
        "  return mediana\n",
        "\n",
        "def f_convertir_mediana(valores):\n",
        "    # Convertir la entrada a una Serie de Pandas si no lo es\n",
        "    if not isinstance(valores, pd.Series):\n",
        "        valores = pd.Series(valores)\n",
        "\n",
        "    # Convertir todos los valores a numéricos, forzando los no convertibles a NaN\n",
        "    valores_numericos = pd.to_numeric(valores, errors='coerce')\n",
        "\n",
        "    # Calcular la mediana de los valores numéricos, excluyendo los NaN\n",
        "    mediana = valores_numericos.median()\n",
        "\n",
        "    # Reemplazar los NaN con la mediana\n",
        "    numeros = valores_numericos.fillna(mediana)\n",
        "\n",
        "    return numeros\n",
        "\n",
        "\n",
        "# Función que visualzia histogrma de una variable de interés numérica\n",
        "def f_histograma(numeros, contexto):\n",
        "  # Calular l media\n",
        "  media = np.mean(numeros)\n",
        "  # Calcular la mediana\n",
        "  mediana = np.median(numeros)\n",
        "\n",
        "  desviacion_estandar = np.std(numeros, ddof=1)\n",
        "  plt.hist(numeros, bins=8, edgecolor='k', alpha=0.7)\n",
        "  plt.axvline(media, color='red', linestyle='dashed', linewidth=2, label=f'Media = {media:.2f}')\n",
        "  plt.axvline(mediana, color='blue', linestyle='dashed', linewidth=2, label=f'Mediana = {mediana:.2f}')\n",
        "  plt.axvline(media - desviacion_estandar, color='green', linestyle='dashed', linewidth=2, label=f'Desv. Estándar = {desviacion_estandar:.2f}')\n",
        "  plt.axvline(media + desviacion_estandar, color='green', linestyle='dashed', linewidth=2)\n",
        "  plt.title('Histograma de ' + contexto + ' con media y desviación estándar')\n",
        "  plt.xlabel(contexto)\n",
        "  plt.ylabel('Frecuencia')\n",
        "  plt.legend()\n",
        "  plt.show()\n",
        "\n",
        "# Función que determina cuartiles\n",
        "def f_cuartiles_quantile(datos):\n",
        "  q1 = np.percentile(datos, 25)\n",
        "  q2 = np.percentile(datos, 50)\n",
        "  q3 = np.percentile(datos, 75)\n",
        "  return q1, q2, q3\n",
        "\n",
        "# Función que construye diagrama de caja\n",
        "def f_diagrama_caja (datos, contexto):\n",
        "  plt.boxplot(datos, vert=False)\n",
        "  plt.xlabel(contexto)\n",
        "  plt.ylabel('Valor')\n",
        "  plt.title('Diagrama de Caja')\n",
        "\n",
        "  # Calculando cuartiles d ela funci´pn previamente creada\n",
        "  q1, q2, q3= f_cuartiles_quantile(datos)\n",
        "  # Añadir leyendas para los cuartiles\n",
        "  plt.axvline(x=q1, color='blue', linestyle='--', linewidth=1, label=f'Q1: {q1:.2f}')\n",
        "  plt.axvline(x=q2, color='blue', linestyle='--', linewidth=1, label=f'Q2:Mediana: {q2:.2f}')\n",
        "  plt.axvline(x=q3, color='blue', linestyle='--', linewidth=1, label=f'Q3: {q3:.2f}')\n",
        "\n",
        "  # Añadir leyenda adicional\n",
        "  plt.legend()\n",
        "\n",
        "  plt.show()\n",
        "\n",
        "def f_modificar_atipicos (datos):\n",
        "\n",
        "  datos = np.array(datos)\n",
        "  q1, q2, q3 = f_cuartiles_quantile(datos)\n",
        "\n",
        "  # La mediana\n",
        "  mediana = np.median(datos)\n",
        "\n",
        "  # Rango Intercuartílico RI = q3 - q1\n",
        "  RI = q3 - q1\n",
        "\n",
        "  # Definir los límites para los valores atípicos\n",
        "  limite_inferior = q1 - 1.5 * RI\n",
        "  limite_superior = q3 + 1.5 * RI\n",
        "\n",
        "  # Calcular la mediana\n",
        "  mediana = np.median(datos)\n",
        "\n",
        "  # Reemplazar los valores atípicos por la mediana\n",
        "  datos[(datos < limite_inferior) | (datos > limite_superior)] = mediana\n",
        "\n",
        "  return datos\n",
        "\n",
        "\n",
        "# Convertir todos los valores a mayúsculas para estandarizar la columna.\n",
        "def f_convertir_MAYUSCULAS(valores):\n",
        "  # 1. Convertir todos los valores a mayúsculas\n",
        "  valores = valores.str.upper()\n",
        "  return valores\n",
        "\n",
        "def f_reemplazar_generos_moda (valores):\n",
        "  moda_generos = valores.mode()[0]\n",
        "\n",
        "  valores.fillna(moda_generos, inplace=True)\n",
        "\n",
        "  return valores\n",
        "\n",
        "# Función que debe modifiar un valor de acuerdo a la cadena que mas se le parezca\n",
        "def f_modificar_parecido (valores):\n",
        "  # Debe identificar los valores únicos los dos que mas se repitan\n",
        "  # por ejemplo FEMENINO Y MASCULINO\n",
        "  # De cada valor si hay una ler F es FEMENINO\n",
        "  # De cada valor si hay una ler M es MASCULINO\n",
        "  # De cada valor si se parece por ejemplo GEMENINO se parece a FEMENINO\n",
        "  # De cada valor si se parece por ejemplo SASCULINO se parece a MASCULINO\n",
        "  return valores\n",
        "\n"
      ],
      "metadata": {
        "id": "1YoYjOdftXBq"
      },
      "execution_count": 133,
      "outputs": []
    },
    {
      "cell_type": "markdown",
      "source": [
        "## Cargar datos\n",
        "\n",
        "Se cargan datos sucios"
      ],
      "metadata": {
        "id": "OwQj89jNte-V"
      }
    },
    {
      "cell_type": "code",
      "execution_count": 134,
      "metadata": {
        "colab": {
          "base_uri": "https://localhost:8080/"
        },
        "id": "LTvPv_ah8PWb",
        "outputId": "43f48b02-1aa1-4c44-b25c-a10b90ecdf51"
      },
      "outputs": [
        {
          "output_type": "stream",
          "name": "stdout",
          "text": [
            "            edades    generos\n",
            "0               13   Femenino\n",
            "1   cuarenta y dos  Masculino\n",
            "2               25  Masculino\n",
            "3               29        NaN\n",
            "4               13  Masculino\n",
            "5               -8        NaN\n",
            "6               11  Masculino\n",
            "7               42   FEMENINO\n",
            "8               -9   Femenino\n",
            "9               13  Masculino\n",
            "10              33   Femenino\n",
            "11              19  Masculino\n",
            "12              27  Masculino\n",
            "13              -9  Masculino\n",
            "14              49          M\n",
            "15            diez   FEMENINO\n",
            "16              22   FEMENINO\n",
            "17               1   FEMENINO\n",
            "18              47  Masculino\n",
            "19              11   FEMENINO\n",
            "20              33  Masculino\n",
            "21              14  Masculino\n",
            "22              38  Masculino\n",
            "23              16   Femenino\n",
            "24              48   Femenino\n",
            "25              31   Femenino\n",
            "26              17   FEMENINO\n",
            "27              49   Femenino\n",
            "28               5   Femenino\n",
            "29               4  Masculino\n",
            "30              36  Masculino\n",
            "31              40   FEMENINO\n",
            "32              33  Masculino\n",
            "33              44          F\n",
            "34              41   FEMENINO\n",
            "35              46  Masculino\n",
            "36              -8  Masculino\n",
            "37              26   FEMENINO\n",
            "38              40  Masculino\n",
            "39              -4   FEMENINO\n",
            "40              10   FEMENINO\n",
            "41              -2  Masculino\n",
            "42              28   Femenino\n",
            "43              99  Masculino\n",
            "44              -7   FEMENINO\n",
            "45              14  Masculino\n",
            "46              49   Femenino\n",
            "47               3  Masculino\n",
            "48              39   Femenino\n",
            "49              47   Femenino\n"
          ]
        }
      ],
      "source": [
        "\n",
        "# Especificar la ruta al archivo CSV, puede ser una ruta URL\n",
        "ruta_archivo = \"https://raw.githubusercontent.com/rpizarrog/innovacion-empresarial/main/datos/datos_estudiantes_sucios.csv\"\n",
        "\n",
        "# o # Especificar la ruta al archivo CSV, puede ser una ruta local de la computadora\n",
        "# Define la ruta al archivo CSV\n",
        "# C:\\Users\\rpizarro\\Documents\\Semestre Enero Junio 2024\\AnaLItica de datos en las organizaciones\\datos\n",
        "#ruta_archivo = r\"C:\\Users\\rpizarro\\Documents\\Semestre Enero Junio 2024\\AnaLItica de datos en las organizaciones\\datos\\datos_estudiantes_sucios.csv\"\n",
        "\n",
        "\n",
        "# Cargar los datos en un DataFrame\n",
        "datos_sucios = datos_limpios = pd.read_csv(ruta_archivo)\n",
        "\n",
        "print (datos_sucios)"
      ]
    },
    {
      "cell_type": "markdown",
      "source": [
        "## Transformar conjunto de datos\n",
        "\n",
        "### Convertir a numéricos las edades\n",
        "\n"
      ],
      "metadata": {
        "id": "ay2_Jwk48aot"
      }
    },
    {
      "cell_type": "code",
      "source": [
        "datos_limpios['edades'] = f_convertir_numeros(datos_limpios['edades'])\n",
        "datos_limpios['edades'] = f_convertir_absoluto(datos_limpios['edades'])\n",
        "print (datos_limpios)\n",
        "\n"
      ],
      "metadata": {
        "colab": {
          "base_uri": "https://localhost:8080/"
        },
        "id": "OvUBSAdBsEvr",
        "outputId": "5188dc35-f114-4944-fd40-e3649b5d11f7"
      },
      "execution_count": 135,
      "outputs": [
        {
          "output_type": "stream",
          "name": "stdout",
          "text": [
            "    edades    generos\n",
            "0     13.0   Femenino\n",
            "1      NaN  Masculino\n",
            "2     25.0  Masculino\n",
            "3     29.0        NaN\n",
            "4     13.0  Masculino\n",
            "5      8.0        NaN\n",
            "6     11.0  Masculino\n",
            "7     42.0   FEMENINO\n",
            "8      9.0   Femenino\n",
            "9     13.0  Masculino\n",
            "10    33.0   Femenino\n",
            "11    19.0  Masculino\n",
            "12    27.0  Masculino\n",
            "13     9.0  Masculino\n",
            "14    49.0          M\n",
            "15     NaN   FEMENINO\n",
            "16    22.0   FEMENINO\n",
            "17     1.0   FEMENINO\n",
            "18    47.0  Masculino\n",
            "19    11.0   FEMENINO\n",
            "20    33.0  Masculino\n",
            "21    14.0  Masculino\n",
            "22    38.0  Masculino\n",
            "23    16.0   Femenino\n",
            "24    48.0   Femenino\n",
            "25    31.0   Femenino\n",
            "26    17.0   FEMENINO\n",
            "27    49.0   Femenino\n",
            "28     5.0   Femenino\n",
            "29     4.0  Masculino\n",
            "30    36.0  Masculino\n",
            "31    40.0   FEMENINO\n",
            "32    33.0  Masculino\n",
            "33    44.0          F\n",
            "34    41.0   FEMENINO\n",
            "35    46.0  Masculino\n",
            "36     8.0  Masculino\n",
            "37    26.0   FEMENINO\n",
            "38    40.0  Masculino\n",
            "39     4.0   FEMENINO\n",
            "40    10.0   FEMENINO\n",
            "41     2.0  Masculino\n",
            "42    28.0   Femenino\n",
            "43    99.0  Masculino\n",
            "44     7.0   FEMENINO\n",
            "45    14.0  Masculino\n",
            "46    49.0   Femenino\n",
            "47     3.0  Masculino\n",
            "48    39.0   Femenino\n",
            "49    47.0   Femenino\n"
          ]
        }
      ]
    },
    {
      "cell_type": "markdown",
      "source": [
        "### La mediana\n",
        "\n",
        "Se manda llamar la funci´pn para concoer la mediana como un esta´distico que servirá para actualizar cada valor no numérico a su valor de la mediana"
      ],
      "metadata": {
        "id": "3HLnPsgGxtP_"
      }
    },
    {
      "cell_type": "code",
      "source": [
        "# Mediana excluyendo\n",
        "mediana = f_mediana(datos_limpios['edades'])\n",
        "print (mediana)\n",
        "\n"
      ],
      "metadata": {
        "colab": {
          "base_uri": "https://localhost:8080/"
        },
        "id": "JKCTi_YKwX6C",
        "outputId": "5678b91f-4022-4a6c-e098-124368010d93"
      },
      "execution_count": 136,
      "outputs": [
        {
          "output_type": "stream",
          "name": "stdout",
          "text": [
            "25.5\n"
          ]
        }
      ]
    },
    {
      "cell_type": "markdown",
      "source": [
        "### Convertir valores de edades NaN a valor de mediana\n",
        "\n",
        "Se utiliza la función *f_convertir_mediana()*\n"
      ],
      "metadata": {
        "id": "3-c2bZnxygDD"
      }
    },
    {
      "cell_type": "code",
      "source": [
        "datos_limpios['edades'] = f_convertir_mediana(datos_limpios['edades'])\n",
        "print (datos_limpios)\n"
      ],
      "metadata": {
        "colab": {
          "base_uri": "https://localhost:8080/"
        },
        "id": "gjSB97z8ykVj",
        "outputId": "f2ca55ab-65a4-407c-d966-763da82ed5e2"
      },
      "execution_count": 137,
      "outputs": [
        {
          "output_type": "stream",
          "name": "stdout",
          "text": [
            "    edades    generos\n",
            "0     13.0   Femenino\n",
            "1     25.5  Masculino\n",
            "2     25.0  Masculino\n",
            "3     29.0        NaN\n",
            "4     13.0  Masculino\n",
            "5      8.0        NaN\n",
            "6     11.0  Masculino\n",
            "7     42.0   FEMENINO\n",
            "8      9.0   Femenino\n",
            "9     13.0  Masculino\n",
            "10    33.0   Femenino\n",
            "11    19.0  Masculino\n",
            "12    27.0  Masculino\n",
            "13     9.0  Masculino\n",
            "14    49.0          M\n",
            "15    25.5   FEMENINO\n",
            "16    22.0   FEMENINO\n",
            "17     1.0   FEMENINO\n",
            "18    47.0  Masculino\n",
            "19    11.0   FEMENINO\n",
            "20    33.0  Masculino\n",
            "21    14.0  Masculino\n",
            "22    38.0  Masculino\n",
            "23    16.0   Femenino\n",
            "24    48.0   Femenino\n",
            "25    31.0   Femenino\n",
            "26    17.0   FEMENINO\n",
            "27    49.0   Femenino\n",
            "28     5.0   Femenino\n",
            "29     4.0  Masculino\n",
            "30    36.0  Masculino\n",
            "31    40.0   FEMENINO\n",
            "32    33.0  Masculino\n",
            "33    44.0          F\n",
            "34    41.0   FEMENINO\n",
            "35    46.0  Masculino\n",
            "36     8.0  Masculino\n",
            "37    26.0   FEMENINO\n",
            "38    40.0  Masculino\n",
            "39     4.0   FEMENINO\n",
            "40    10.0   FEMENINO\n",
            "41     2.0  Masculino\n",
            "42    28.0   Femenino\n",
            "43    99.0  Masculino\n",
            "44     7.0   FEMENINO\n",
            "45    14.0  Masculino\n",
            "46    49.0   Femenino\n",
            "47     3.0  Masculino\n",
            "48    39.0   Femenino\n",
            "49    47.0   Femenino\n"
          ]
        }
      ]
    },
    {
      "cell_type": "markdown",
      "source": [
        "## Histograma de edades\n",
        "\n"
      ],
      "metadata": {
        "id": "qi6OJt30D3VT"
      }
    },
    {
      "cell_type": "code",
      "source": [
        "\n",
        "f_histograma(datos_limpios['edades'], 'edades')"
      ],
      "metadata": {
        "colab": {
          "base_uri": "https://localhost:8080/",
          "height": 472
        },
        "id": "DlYMKyKuD6Nj",
        "outputId": "17519249-52bf-4e84-9ed4-281c620a4c37"
      },
      "execution_count": 138,
      "outputs": [
        {
          "output_type": "display_data",
          "data": {
            "text/plain": [
              "<Figure size 640x480 with 1 Axes>"
            ],
            "image/png": "[encoded data removed]"
          },
          "metadata": {}
        }
      ]
    },
    {
      "cell_type": "markdown",
      "source": [
        "## Diagrama de caja\n",
        "\n",
        "Se utiliza el diagrama de caja para verificar datos atípicos\n",
        "\n"
      ],
      "metadata": {
        "id": "qszsu9D5Gsq_"
      }
    },
    {
      "cell_type": "code",
      "source": [
        "f_diagrama_caja(datos_limpios['edades'], 'edades')"
      ],
      "metadata": {
        "colab": {
          "base_uri": "https://localhost:8080/",
          "height": 472
        },
        "id": "wEjDqjdiwQRr",
        "outputId": "faf114da-a79c-4349-c9af-b2a57c6e8f5b"
      },
      "execution_count": 139,
      "outputs": [
        {
          "output_type": "display_data",
          "data": {
            "text/plain": [
              "<Figure size 640x480 with 1 Axes>"
            ],
            "image/png": "[encoded data removed]"
          },
          "metadata": {}
        }
      ]
    },
    {
      "cell_type": "markdown",
      "source": [
        "Se observa en el diagrama de caja que existen datos atípicos, se recomienda modificar ese valor por el valor de la mediana de la variable numérica en cuestión.\n",
        "\n"
      ],
      "metadata": {
        "id": "LPggA1C8wgSs"
      }
    },
    {
      "cell_type": "code",
      "source": [
        "datos_limpios['edades'] = f_modificar_atipicos(datos_limpios['edades'])\n",
        "print (\"Datos Limpios Finales\")\n",
        "print (datos_limpios)\n",
        "\n",
        "# Verificar si se modifiacron os datos atípicos\n",
        "f_diagrama_caja(datos_limpios['edades'], 'edades')\n"
      ],
      "metadata": {
        "colab": {
          "base_uri": "https://localhost:8080/",
          "height": 1000
        },
        "id": "Fn0-kBIa3Wbb",
        "outputId": "7cc4b804-32af-4c9a-ce67-843861397e6b"
      },
      "execution_count": 140,
      "outputs": [
        {
          "output_type": "stream",
          "name": "stdout",
          "text": [
            "Datos Limpios Finales\n",
            "    edades    generos\n",
            "0     13.0   Femenino\n",
            "1     25.5  Masculino\n",
            "2     25.0  Masculino\n",
            "3     29.0        NaN\n",
            "4     13.0  Masculino\n",
            "5      8.0        NaN\n",
            "6     11.0  Masculino\n",
            "7     42.0   FEMENINO\n",
            "8      9.0   Femenino\n",
            "9     13.0  Masculino\n",
            "10    33.0   Femenino\n",
            "11    19.0  Masculino\n",
            "12    27.0  Masculino\n",
            "13     9.0  Masculino\n",
            "14    49.0          M\n",
            "15    25.5   FEMENINO\n",
            "16    22.0   FEMENINO\n",
            "17     1.0   FEMENINO\n",
            "18    47.0  Masculino\n",
            "19    11.0   FEMENINO\n",
            "20    33.0  Masculino\n",
            "21    14.0  Masculino\n",
            "22    38.0  Masculino\n",
            "23    16.0   Femenino\n",
            "24    48.0   Femenino\n",
            "25    31.0   Femenino\n",
            "26    17.0   FEMENINO\n",
            "27    49.0   Femenino\n",
            "28     5.0   Femenino\n",
            "29     4.0  Masculino\n",
            "30    36.0  Masculino\n",
            "31    40.0   FEMENINO\n",
            "32    33.0  Masculino\n",
            "33    44.0          F\n",
            "34    41.0   FEMENINO\n",
            "35    46.0  Masculino\n",
            "36     8.0  Masculino\n",
            "37    26.0   FEMENINO\n",
            "38    40.0  Masculino\n",
            "39     4.0   FEMENINO\n",
            "40    10.0   FEMENINO\n",
            "41     2.0  Masculino\n",
            "42    28.0   Femenino\n",
            "43    25.5  Masculino\n",
            "44     7.0   FEMENINO\n",
            "45    14.0  Masculino\n",
            "46    49.0   Femenino\n",
            "47     3.0  Masculino\n",
            "48    39.0   Femenino\n",
            "49    47.0   Femenino\n"
          ]
        },
        {
          "output_type": "display_data",
          "data": {
            "text/plain": [
              "<Figure size 640x480 with 1 Axes>"
            ],
            "image/png": "[encoded data removed]"
          },
          "metadata": {}
        }
      ]
    },
    {
      "cell_type": "markdown",
      "source": [
        "Ya no hay datos atípicos.\n"
      ],
      "metadata": {
        "id": "rcwLaxa06VJr"
      }
    },
    {
      "cell_type": "markdown",
      "source": [
        "## Transformar valores de generos\n",
        "\n",
        "### Cambiar a mayúsculas\n",
        "\n"
      ],
      "metadata": {
        "id": "rSVcIcoF1EqH"
      }
    },
    {
      "cell_type": "code",
      "source": [
        "datos_limpios['generos'] = f_convertir_MAYUSCULAS(datos_limpios['generos'])\n",
        "print (datos_limpios)\n",
        "\n",
        "datos_limpios['generos'] = f_reemplazar_generos_moda(datos_limpios['generos'])\n",
        "print (datos_limpios)\n",
        "# PEndiente ..."
      ],
      "metadata": {
        "id": "VtkZVw8_1vPM",
        "colab": {
          "base_uri": "https://localhost:8080/"
        },
        "outputId": "2f7e9648-d468-426c-f18f-ea27d6df8ea6"
      },
      "execution_count": 141,
      "outputs": [
        {
          "output_type": "stream",
          "name": "stdout",
          "text": [
            "    edades    generos\n",
            "0     13.0   FEMENINO\n",
            "1     25.5  MASCULINO\n",
            "2     25.0  MASCULINO\n",
            "3     29.0        NaN\n",
            "4     13.0  MASCULINO\n",
            "5      8.0        NaN\n",
            "6     11.0  MASCULINO\n",
            "7     42.0   FEMENINO\n",
            "8      9.0   FEMENINO\n",
            "9     13.0  MASCULINO\n",
            "10    33.0   FEMENINO\n",
            "11    19.0  MASCULINO\n",
            "12    27.0  MASCULINO\n",
            "13     9.0  MASCULINO\n",
            "14    49.0          M\n",
            "15    25.5   FEMENINO\n",
            "16    22.0   FEMENINO\n",
            "17     1.0   FEMENINO\n",
            "18    47.0  MASCULINO\n",
            "19    11.0   FEMENINO\n",
            "20    33.0  MASCULINO\n",
            "21    14.0  MASCULINO\n",
            "22    38.0  MASCULINO\n",
            "23    16.0   FEMENINO\n",
            "24    48.0   FEMENINO\n",
            "25    31.0   FEMENINO\n",
            "26    17.0   FEMENINO\n",
            "27    49.0   FEMENINO\n",
            "28     5.0   FEMENINO\n",
            "29     4.0  MASCULINO\n",
            "30    36.0  MASCULINO\n",
            "31    40.0   FEMENINO\n",
            "32    33.0  MASCULINO\n",
            "33    44.0          F\n",
            "34    41.0   FEMENINO\n",
            "35    46.0  MASCULINO\n",
            "36     8.0  MASCULINO\n",
            "37    26.0   FEMENINO\n",
            "38    40.0  MASCULINO\n",
            "39     4.0   FEMENINO\n",
            "40    10.0   FEMENINO\n",
            "41     2.0  MASCULINO\n",
            "42    28.0   FEMENINO\n",
            "43    25.5  MASCULINO\n",
            "44     7.0   FEMENINO\n",
            "45    14.0  MASCULINO\n",
            "46    49.0   FEMENINO\n",
            "47     3.0  MASCULINO\n",
            "48    39.0   FEMENINO\n",
            "49    47.0   FEMENINO\n",
            "    edades    generos\n",
            "0     13.0   FEMENINO\n",
            "1     25.5  MASCULINO\n",
            "2     25.0  MASCULINO\n",
            "3     29.0   FEMENINO\n",
            "4     13.0  MASCULINO\n",
            "5      8.0   FEMENINO\n",
            "6     11.0  MASCULINO\n",
            "7     42.0   FEMENINO\n",
            "8      9.0   FEMENINO\n",
            "9     13.0  MASCULINO\n",
            "10    33.0   FEMENINO\n",
            "11    19.0  MASCULINO\n",
            "12    27.0  MASCULINO\n",
            "13     9.0  MASCULINO\n",
            "14    49.0          M\n",
            "15    25.5   FEMENINO\n",
            "16    22.0   FEMENINO\n",
            "17     1.0   FEMENINO\n",
            "18    47.0  MASCULINO\n",
            "19    11.0   FEMENINO\n",
            "20    33.0  MASCULINO\n",
            "21    14.0  MASCULINO\n",
            "22    38.0  MASCULINO\n",
            "23    16.0   FEMENINO\n",
            "24    48.0   FEMENINO\n",
            "25    31.0   FEMENINO\n",
            "26    17.0   FEMENINO\n",
            "27    49.0   FEMENINO\n",
            "28     5.0   FEMENINO\n",
            "29     4.0  MASCULINO\n",
            "30    36.0  MASCULINO\n",
            "31    40.0   FEMENINO\n",
            "32    33.0  MASCULINO\n",
            "33    44.0          F\n",
            "34    41.0   FEMENINO\n",
            "35    46.0  MASCULINO\n",
            "36     8.0  MASCULINO\n",
            "37    26.0   FEMENINO\n",
            "38    40.0  MASCULINO\n",
            "39     4.0   FEMENINO\n",
            "40    10.0   FEMENINO\n",
            "41     2.0  MASCULINO\n",
            "42    28.0   FEMENINO\n",
            "43    25.5  MASCULINO\n",
            "44     7.0   FEMENINO\n",
            "45    14.0  MASCULINO\n",
            "46    49.0   FEMENINO\n",
            "47     3.0  MASCULINO\n",
            "48    39.0   FEMENINO\n",
            "49    47.0   FEMENINO\n"
          ]
        }
      ]
    }
  ]
}